{
  "nbformat": 4,
  "nbformat_minor": 0,
  "metadata": {
    "colab": {
      "provenance": [],
      "authorship_tag": "ABX9TyMvUZVZQKIBzcEn3jSJQv90",
      "include_colab_link": true
    },
    "kernelspec": {
      "name": "python3",
      "display_name": "Python 3"
    },
    "language_info": {
      "name": "python"
    }
  },
  "cells": [
    {
      "cell_type": "markdown",
      "metadata": {
        "id": "view-in-github",
        "colab_type": "text"
      },
      "source": [
        "<a href=\"https://colab.research.google.com/github/thammarat-ai/codeExampleAI/blob/main/linear_regression1.ipynb\" target=\"_parent\"><img src=\"https://colab.research.google.com/assets/colab-badge.svg\" alt=\"Open In Colab\"/></a>"
      ]
    },
    {
      "cell_type": "code",
      "execution_count": null,
      "metadata": {
        "id": "TK3aLsgpXaW5"
      },
      "outputs": [],
      "source": [
        "import matplotlib.pyplot as plt\n",
        "from scipy import stats\n",
        "import pandas as pd\n"
      ]
    },
    {
      "cell_type": "code",
      "source": [
        "df =pd.read_csv('data.csv')"
      ],
      "metadata": {
        "id": "6-1SXsD_Xs0c"
      },
      "execution_count": null,
      "outputs": []
    },
    {
      "cell_type": "code",
      "source": [
        "print(df)"
      ],
      "metadata": {
        "colab": {
          "base_uri": "https://localhost:8080/"
        },
        "id": "tpylReDEX3_c",
        "outputId": "a43a97f0-cdd4-4283-ae20-fb669e050816"
      },
      "execution_count": null,
      "outputs": [
        {
          "output_type": "stream",
          "name": "stdout",
          "text": [
            "   Time  Voltage\n",
            "0     0       10\n",
            "1     1       12\n",
            "2     2       12\n",
            "3     3       14\n",
            "4     4       13\n",
            "5     5       15\n",
            "6     6       16\n",
            "7     7       18\n",
            "8     8       17\n",
            "9     9       19\n"
          ]
        }
      ]
    },
    {
      "cell_type": "code",
      "source": [
        "x = df['Time']\n",
        "y = df['Voltage']"
      ],
      "metadata": {
        "id": "rBmuTWmbX5dT"
      },
      "execution_count": null,
      "outputs": []
    },
    {
      "cell_type": "code",
      "source": [
        "slop"
      ],
      "metadata": {
        "id": "Hz5KSc1VYAO7"
      },
      "execution_count": null,
      "outputs": []
    }
  ]
}